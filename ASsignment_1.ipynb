{
  "nbformat": 4,
  "nbformat_minor": 0,
  "metadata": {
    "colab": {
      "name": "ASsignment-1.ipynb",
      "provenance": []
    },
    "kernelspec": {
      "name": "python3",
      "display_name": "Python 3"
    },
    "language_info": {
      "name": "python"
    }
  },
  "cells": [
    {
      "cell_type": "code",
      "execution_count": 2,
      "metadata": {
        "colab": {
          "base_uri": "https://localhost:8080/"
        },
        "id": "pzmypYgJ1w-1",
        "outputId": "cc9acde0-b686-45f4-f8c5-2b23e28f1af8"
      },
      "outputs": [
        {
          "output_type": "stream",
          "name": "stdout",
          "text": [
            "Side a?\n",
            "23\n",
            "Side b?\n",
            "12\n",
            "Side c?\n",
            "11\n",
            "Yes\n"
          ]
        }
      ],
      "source": [
        "a = int(input('Side a?\\n'))\n",
        "b = int(input('Side b?\\n'))\n",
        "c = int(input('Side c?\\n'))\n",
        " \n",
        "def is_triangle(a, b, c):\n",
        "   if (a > (b + c) or\n",
        "       b > (a + c) or\n",
        "       c > (a + b)):\n",
        "       print (\"No\")\n",
        "   else:\n",
        "       print (\"Yes\")\n",
        "is_triangle(a, b ,c)"
      ]
    }
  ]
}